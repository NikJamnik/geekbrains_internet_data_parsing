{
  "nbformat": 4,
  "nbformat_minor": 0,
  "metadata": {
    "colab": {
      "name": "Task 1.ipynb",
      "provenance": [],
      "collapsed_sections": []
    },
    "kernelspec": {
      "name": "python3",
      "display_name": "Python 3"
    }
  },
  "cells": [
    {
      "cell_type": "code",
      "metadata": {
        "id": "hMQ_Qr5s9b6Y"
      },
      "source": [
        "import requests"
      ],
      "execution_count": 1,
      "outputs": []
    },
    {
      "cell_type": "code",
      "metadata": {
        "id": "-njALV6T-IoW"
      },
      "source": [
        "import json"
      ],
      "execution_count": 4,
      "outputs": []
    },
    {
      "cell_type": "code",
      "metadata": {
        "id": "3GkjXmPb-5R4"
      },
      "source": [
        "def get_users_repos(user=\"NikJamnik\", write_path=\"user_repos.json\"):\n",
        "  main_link = f\"https://api.github.com/users/{user}/repos\"\n",
        "  try:\n",
        "    result = requests.get(main_link)\n",
        "  except:\n",
        "    print(\"Wrong user name!\")\n",
        "    return None\n",
        "\n",
        "  res_dict = json.loads(result.text)\n",
        "  repos_list = []\n",
        "  for el in res_dict:\n",
        "    repos_list.append(el['name'])\n",
        "\n",
        "  with open(write_path, \"w\") as write_file:\n",
        "    json.dump(repos_list, write_file)\n",
        "\n",
        "  return repos_list"
      ],
      "execution_count": 18,
      "outputs": []
    },
    {
      "cell_type": "code",
      "metadata": {
        "id": "9OBwanGg_tqX",
        "outputId": "813a2757-6f44-4b18-914a-0380f40e7403",
        "colab": {
          "base_uri": "https://localhost:8080/",
          "height": 54
        }
      },
      "source": [
        "result = get_users_repos()\n",
        "print(result)"
      ],
      "execution_count": 19,
      "outputs": [
        {
          "output_type": "stream",
          "text": [
            "['geekbrains_internet_data_parsing', 'geekbrains_mysql', 'geekbrains_numpy_matplotlib_sklearn', 'hse_se_ml', 'instance_segmentation_using_pretrained_classifier', 'project', 'python', 'repo-github', 'repo-self']\n"
          ],
          "name": "stdout"
        }
      ]
    }
  ]
}