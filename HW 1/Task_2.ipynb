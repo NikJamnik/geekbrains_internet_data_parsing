{
  "nbformat": 4,
  "nbformat_minor": 0,
  "metadata": {
    "colab": {
      "name": "Task 2.ipynb",
      "provenance": [],
      "collapsed_sections": []
    },
    "kernelspec": {
      "name": "python3",
      "display_name": "Python 3"
    }
  },
  "cells": [
    {
      "cell_type": "code",
      "metadata": {
        "id": "L49FA9kRAYgd"
      },
      "source": [
        "import requests\n",
        "import json"
      ],
      "execution_count": 7,
      "outputs": []
    },
    {
      "cell_type": "code",
      "metadata": {
        "id": "7M2_mOCwAaah",
        "outputId": "64822eb2-872a-41a8-978b-3d117270317b",
        "colab": {
          "base_uri": "https://localhost:8080/",
          "height": 88
        }
      },
      "source": [
        "main_link = \"http://api.openweathermap.org/data/2.5/weather\"\n",
        "api_key = \"your_key\"\n",
        "\n",
        "params = {\"q\": \"Tashkent\", \"appid\": api_key}\n",
        "\n",
        "result = requests.get(main_link, params=params)\n",
        "\n",
        "print(type(result))\n",
        "print(result)\n",
        "print(result.text)\n",
        "\n",
        "res_dict = json.loads(result.text)"
      ],
      "execution_count": 8,
      "outputs": [
        {
          "output_type": "stream",
          "text": [
            "<class 'requests.models.Response'>\n",
            "<Response [200]>\n",
            "{\"coord\":{\"lon\":69.22,\"lat\":41.26},\"weather\":[{\"id\":800,\"main\":\"Clear\",\"description\":\"clear sky\",\"icon\":\"01d\"}],\"base\":\"stations\",\"main\":{\"temp\":292.15,\"feels_like\":288.49,\"temp_min\":292.15,\"temp_max\":292.15,\"pressure\":1026,\"humidity\":25},\"visibility\":10000,\"wind\":{\"speed\":2.1,\"deg\":290},\"clouds\":{\"all\":0},\"dt\":1602495896,\"sys\":{\"type\":1,\"id\":9016,\"country\":\"UZ\",\"sunrise\":1602466286,\"sunset\":1602506842},\"timezone\":18000,\"id\":1512569,\"name\":\"Tashkent\",\"cod\":200}\n"
          ],
          "name": "stdout"
        }
      ]
    },
    {
      "cell_type": "code",
      "metadata": {
        "id": "K0JMfB_CAac0"
      },
      "source": [
        "write_path = \"tashkent_weather.json\"\n",
        "\n",
        "with open(write_path, \"w\") as write_file:\n",
        "  json.dump(res_dict, write_file)"
      ],
      "execution_count": 9,
      "outputs": []
    },
    {
      "cell_type": "code",
      "metadata": {
        "id": "34UWCb3GAaf0"
      },
      "source": [
        ""
      ],
      "execution_count": null,
      "outputs": []
    },
    {
      "cell_type": "code",
      "metadata": {
        "id": "jCIzwXTrAaiU"
      },
      "source": [
        ""
      ],
      "execution_count": null,
      "outputs": []
    },
    {
      "cell_type": "code",
      "metadata": {
        "id": "QuEfP21hAajl"
      },
      "source": [
        ""
      ],
      "execution_count": null,
      "outputs": []
    },
    {
      "cell_type": "code",
      "metadata": {
        "id": "pWzsFi1ZAalv"
      },
      "source": [
        ""
      ],
      "execution_count": null,
      "outputs": []
    }
  ]
}